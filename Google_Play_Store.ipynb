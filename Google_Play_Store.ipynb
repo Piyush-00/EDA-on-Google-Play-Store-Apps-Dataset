{
 "cells": [
  {
   "cell_type": "code",
   "execution_count": 3,
   "id": "fde129e2-1a71-48cb-8f68-c037b876b525",
   "metadata": {},
   "outputs": [],
   "source": [
    "import pandas as pd\n",
    "import numpy as np\n",
    "import matplotlib.pyplot as plt\n",
    "import seaborn as sns\n",
    "import plotly.express as px"
   ]
  },
  {
   "cell_type": "markdown",
   "id": "e5b63a5c-c377-4ee7-8354-556bda7b910e",
   "metadata": {},
   "source": [
    "# EDA for Google Play Store App Data"
   ]
  },
  {
   "cell_type": "markdown",
   "id": "d2f9e657-9690-4829-9a53-3575086326df",
   "metadata": {},
   "source": [
    "### Reading the Google Play Store Apps Dataset"
   ]
  },
  {
   "cell_type": "code",
   "execution_count": 4,
   "id": "67aa510d-6283-4aad-b2cc-c0140c8d4eb3",
   "metadata": {},
   "outputs": [],
   "source": [
    "df = pd.read_csv(\"google_play.csv\")"
   ]
  },
  {
   "cell_type": "markdown",
   "id": "f42fa290-dec8-49df-a190-6ae111db0e00",
   "metadata": {},
   "source": [
    "### Basic information about the dataset"
   ]
  },
  {
   "cell_type": "code",
   "execution_count": 5,
   "id": "6c4f8c6d-c57e-4c79-b25e-a883c858d609",
   "metadata": {},
   "outputs": [
    {
     "name": "stdout",
     "output_type": "stream",
     "text": [
      "<class 'pandas.core.frame.DataFrame'>\n",
      "RangeIndex: 2312944 entries, 0 to 2312943\n",
      "Data columns (total 24 columns):\n",
      " #   Column             Dtype  \n",
      "---  ------             -----  \n",
      " 0   App Name           object \n",
      " 1   App Id             object \n",
      " 2   Category           object \n",
      " 3   Rating             float64\n",
      " 4   Rating Count       float64\n",
      " 5   Installs           object \n",
      " 6   Minimum Installs   float64\n",
      " 7   Maximum Installs   int64  \n",
      " 8   Free               bool   \n",
      " 9   Price              float64\n",
      " 10  Currency           object \n",
      " 11  Size               object \n",
      " 12  Minimum Android    object \n",
      " 13  Developer Id       object \n",
      " 14  Developer Website  object \n",
      " 15  Developer Email    object \n",
      " 16  Released           object \n",
      " 17  Last Updated       object \n",
      " 18  Content Rating     object \n",
      " 19  Privacy Policy     object \n",
      " 20  Ad Supported       bool   \n",
      " 21  In App Purchases   bool   \n",
      " 22  Editors Choice     bool   \n",
      " 23  Scraped Time       object \n",
      "dtypes: bool(4), float64(4), int64(1), object(15)\n",
      "memory usage: 361.8+ MB\n"
     ]
    }
   ],
   "source": [
    "df.info()"
   ]
  },
  {
   "cell_type": "markdown",
   "id": "d32397ba-9753-4db4-8d9c-1e793d799670",
   "metadata": {},
   "source": [
    "### Checking the total amount of null values in each column and sorting them"
   ]
  },
  {
   "cell_type": "code",
   "execution_count": 6,
   "id": "1b947ea1-a89e-4478-8260-b19811a2c868",
   "metadata": {},
   "outputs": [
    {
     "data": {
      "text/plain": [
       "Developer Website    760835\n",
       "Privacy Policy       420953\n",
       "Released              71053\n",
       "Rating                22883\n",
       "Rating Count          22883\n",
       "Minimum Android        6530\n",
       "Size                    196\n",
       "Currency                135\n",
       "Installs                107\n",
       "Minimum Installs        107\n",
       "Developer Id             33\n",
       "Developer Email          31\n",
       "App Name                  5\n",
       "App Id                    0\n",
       "Price                     0\n",
       "Free                      0\n",
       "Maximum Installs          0\n",
       "Last Updated              0\n",
       "Content Rating            0\n",
       "Category                  0\n",
       "Ad Supported              0\n",
       "In App Purchases          0\n",
       "Editors Choice            0\n",
       "Scraped Time              0\n",
       "dtype: int64"
      ]
     },
     "execution_count": 6,
     "metadata": {},
     "output_type": "execute_result"
    }
   ],
   "source": [
    "df.isnull().sum().sort_values(ascending=False)"
   ]
  },
  {
   "cell_type": "markdown",
   "id": "4fac5375-7c8f-475d-a66f-fdd0f611f0c7",
   "metadata": {},
   "source": [
    "### Dropping Duplicate Values"
   ]
  },
  {
   "cell_type": "code",
   "execution_count": 7,
   "id": "69248098-1e55-4942-8aee-ce3ad836b091",
   "metadata": {},
   "outputs": [
    {
     "data": {
      "text/html": [
       "<div>\n",
       "<style scoped>\n",
       "    .dataframe tbody tr th:only-of-type {\n",
       "        vertical-align: middle;\n",
       "    }\n",
       "\n",
       "    .dataframe tbody tr th {\n",
       "        vertical-align: top;\n",
       "    }\n",
       "\n",
       "    .dataframe thead th {\n",
       "        text-align: right;\n",
       "    }\n",
       "</style>\n",
       "<table border=\"1\" class=\"dataframe\">\n",
       "  <thead>\n",
       "    <tr style=\"text-align: right;\">\n",
       "      <th></th>\n",
       "      <th>App Name</th>\n",
       "      <th>App Id</th>\n",
       "      <th>Category</th>\n",
       "      <th>Rating</th>\n",
       "      <th>Rating Count</th>\n",
       "      <th>Installs</th>\n",
       "      <th>Minimum Installs</th>\n",
       "      <th>Maximum Installs</th>\n",
       "      <th>Free</th>\n",
       "      <th>Price</th>\n",
       "      <th>...</th>\n",
       "      <th>Developer Website</th>\n",
       "      <th>Developer Email</th>\n",
       "      <th>Released</th>\n",
       "      <th>Last Updated</th>\n",
       "      <th>Content Rating</th>\n",
       "      <th>Privacy Policy</th>\n",
       "      <th>Ad Supported</th>\n",
       "      <th>In App Purchases</th>\n",
       "      <th>Editors Choice</th>\n",
       "      <th>Scraped Time</th>\n",
       "    </tr>\n",
       "  </thead>\n",
       "  <tbody>\n",
       "    <tr>\n",
       "      <th>0</th>\n",
       "      <td>Gakondo</td>\n",
       "      <td>com.ishakwe.gakondo</td>\n",
       "      <td>Adventure</td>\n",
       "      <td>0.0</td>\n",
       "      <td>0.0</td>\n",
       "      <td>10+</td>\n",
       "      <td>10.0</td>\n",
       "      <td>15</td>\n",
       "      <td>True</td>\n",
       "      <td>0.0</td>\n",
       "      <td>...</td>\n",
       "      <td>https://beniyizibyose.tk/#/</td>\n",
       "      <td>jean21101999@gmail.com</td>\n",
       "      <td>Feb 26, 2020</td>\n",
       "      <td>Feb 26, 2020</td>\n",
       "      <td>Everyone</td>\n",
       "      <td>https://beniyizibyose.tk/projects/</td>\n",
       "      <td>False</td>\n",
       "      <td>False</td>\n",
       "      <td>False</td>\n",
       "      <td>2021-06-15 20:19:35</td>\n",
       "    </tr>\n",
       "    <tr>\n",
       "      <th>1</th>\n",
       "      <td>Ampere Battery Info</td>\n",
       "      <td>com.webserveis.batteryinfo</td>\n",
       "      <td>Tools</td>\n",
       "      <td>4.4</td>\n",
       "      <td>64.0</td>\n",
       "      <td>5,000+</td>\n",
       "      <td>5000.0</td>\n",
       "      <td>7662</td>\n",
       "      <td>True</td>\n",
       "      <td>0.0</td>\n",
       "      <td>...</td>\n",
       "      <td>https://webserveis.netlify.app/</td>\n",
       "      <td>webserveis@gmail.com</td>\n",
       "      <td>May 21, 2020</td>\n",
       "      <td>May 06, 2021</td>\n",
       "      <td>Everyone</td>\n",
       "      <td>https://dev4phones.wordpress.com/licencia-de-uso/</td>\n",
       "      <td>True</td>\n",
       "      <td>False</td>\n",
       "      <td>False</td>\n",
       "      <td>2021-06-15 20:19:35</td>\n",
       "    </tr>\n",
       "    <tr>\n",
       "      <th>2</th>\n",
       "      <td>Vibook</td>\n",
       "      <td>com.doantiepvien.crm</td>\n",
       "      <td>Productivity</td>\n",
       "      <td>0.0</td>\n",
       "      <td>0.0</td>\n",
       "      <td>50+</td>\n",
       "      <td>50.0</td>\n",
       "      <td>58</td>\n",
       "      <td>True</td>\n",
       "      <td>0.0</td>\n",
       "      <td>...</td>\n",
       "      <td>NaN</td>\n",
       "      <td>vnacrewit@gmail.com</td>\n",
       "      <td>Aug 9, 2019</td>\n",
       "      <td>Aug 19, 2019</td>\n",
       "      <td>Everyone</td>\n",
       "      <td>https://www.vietnamairlines.com/vn/en/terms-an...</td>\n",
       "      <td>False</td>\n",
       "      <td>False</td>\n",
       "      <td>False</td>\n",
       "      <td>2021-06-15 20:19:35</td>\n",
       "    </tr>\n",
       "    <tr>\n",
       "      <th>3</th>\n",
       "      <td>Smart City Trichy Public Service Vehicles 17UC...</td>\n",
       "      <td>cst.stJoseph.ug17ucs548</td>\n",
       "      <td>Communication</td>\n",
       "      <td>5.0</td>\n",
       "      <td>5.0</td>\n",
       "      <td>10+</td>\n",
       "      <td>10.0</td>\n",
       "      <td>19</td>\n",
       "      <td>True</td>\n",
       "      <td>0.0</td>\n",
       "      <td>...</td>\n",
       "      <td>http://www.climatesmarttech.com/</td>\n",
       "      <td>climatesmarttech2@gmail.com</td>\n",
       "      <td>Sep 10, 2018</td>\n",
       "      <td>Oct 13, 2018</td>\n",
       "      <td>Everyone</td>\n",
       "      <td>NaN</td>\n",
       "      <td>True</td>\n",
       "      <td>False</td>\n",
       "      <td>False</td>\n",
       "      <td>2021-06-15 20:19:35</td>\n",
       "    </tr>\n",
       "    <tr>\n",
       "      <th>4</th>\n",
       "      <td>GROW.me</td>\n",
       "      <td>com.horodyski.grower</td>\n",
       "      <td>Tools</td>\n",
       "      <td>0.0</td>\n",
       "      <td>0.0</td>\n",
       "      <td>100+</td>\n",
       "      <td>100.0</td>\n",
       "      <td>478</td>\n",
       "      <td>True</td>\n",
       "      <td>0.0</td>\n",
       "      <td>...</td>\n",
       "      <td>http://www.horodyski.com.pl</td>\n",
       "      <td>rmilekhorodyski@gmail.com</td>\n",
       "      <td>Feb 21, 2020</td>\n",
       "      <td>Nov 12, 2018</td>\n",
       "      <td>Everyone</td>\n",
       "      <td>http://www.horodyski.com.pl</td>\n",
       "      <td>False</td>\n",
       "      <td>False</td>\n",
       "      <td>False</td>\n",
       "      <td>2021-06-15 20:19:35</td>\n",
       "    </tr>\n",
       "    <tr>\n",
       "      <th>...</th>\n",
       "      <td>...</td>\n",
       "      <td>...</td>\n",
       "      <td>...</td>\n",
       "      <td>...</td>\n",
       "      <td>...</td>\n",
       "      <td>...</td>\n",
       "      <td>...</td>\n",
       "      <td>...</td>\n",
       "      <td>...</td>\n",
       "      <td>...</td>\n",
       "      <td>...</td>\n",
       "      <td>...</td>\n",
       "      <td>...</td>\n",
       "      <td>...</td>\n",
       "      <td>...</td>\n",
       "      <td>...</td>\n",
       "      <td>...</td>\n",
       "      <td>...</td>\n",
       "      <td>...</td>\n",
       "      <td>...</td>\n",
       "      <td>...</td>\n",
       "    </tr>\n",
       "    <tr>\n",
       "      <th>2312939</th>\n",
       "      <td>大俠客—熱血歸來</td>\n",
       "      <td>com.rxsj.ssjj</td>\n",
       "      <td>Role Playing</td>\n",
       "      <td>4.3</td>\n",
       "      <td>16775.0</td>\n",
       "      <td>100,000+</td>\n",
       "      <td>100000.0</td>\n",
       "      <td>337109</td>\n",
       "      <td>True</td>\n",
       "      <td>0.0</td>\n",
       "      <td>...</td>\n",
       "      <td>http://www.4399sy.com.hk/</td>\n",
       "      <td>ssjjcomhk@gmail.com</td>\n",
       "      <td>NaN</td>\n",
       "      <td>Jun 01, 2021</td>\n",
       "      <td>Teen</td>\n",
       "      <td>http://a.4399sy.com.hk/user/aggreement</td>\n",
       "      <td>False</td>\n",
       "      <td>False</td>\n",
       "      <td>False</td>\n",
       "      <td>2021-06-16 12:59:18</td>\n",
       "    </tr>\n",
       "    <tr>\n",
       "      <th>2312940</th>\n",
       "      <td>ORU Online</td>\n",
       "      <td>com.threedream.oruonline</td>\n",
       "      <td>Education</td>\n",
       "      <td>0.0</td>\n",
       "      <td>0.0</td>\n",
       "      <td>100+</td>\n",
       "      <td>100.0</td>\n",
       "      <td>430</td>\n",
       "      <td>True</td>\n",
       "      <td>0.0</td>\n",
       "      <td>...</td>\n",
       "      <td>http://www.oru.edu/</td>\n",
       "      <td>3DreamDeveloper@gmail.com</td>\n",
       "      <td>Jan 17, 2018</td>\n",
       "      <td>Feb 02, 2018</td>\n",
       "      <td>Everyone</td>\n",
       "      <td>http://www.oru.edu/about-oru/privacy-policy.php</td>\n",
       "      <td>False</td>\n",
       "      <td>False</td>\n",
       "      <td>False</td>\n",
       "      <td>2021-06-16 12:59:19</td>\n",
       "    </tr>\n",
       "    <tr>\n",
       "      <th>2312941</th>\n",
       "      <td>Data Structure</td>\n",
       "      <td>datastructure.appoworld.datastucture</td>\n",
       "      <td>Education</td>\n",
       "      <td>0.0</td>\n",
       "      <td>0.0</td>\n",
       "      <td>100+</td>\n",
       "      <td>100.0</td>\n",
       "      <td>202</td>\n",
       "      <td>True</td>\n",
       "      <td>0.0</td>\n",
       "      <td>...</td>\n",
       "      <td>NaN</td>\n",
       "      <td>appoworld.official@gmail.com</td>\n",
       "      <td>Aug 19, 2018</td>\n",
       "      <td>Aug 19, 2018</td>\n",
       "      <td>Everyone</td>\n",
       "      <td>https://appoworld.000webhostapp.com/datastruct...</td>\n",
       "      <td>False</td>\n",
       "      <td>False</td>\n",
       "      <td>False</td>\n",
       "      <td>2021-06-16 12:59:19</td>\n",
       "    </tr>\n",
       "    <tr>\n",
       "      <th>2312942</th>\n",
       "      <td>Devi Suktam</td>\n",
       "      <td>ishan.devi.suktam</td>\n",
       "      <td>Music &amp; Audio</td>\n",
       "      <td>3.5</td>\n",
       "      <td>8.0</td>\n",
       "      <td>1,000+</td>\n",
       "      <td>1000.0</td>\n",
       "      <td>2635</td>\n",
       "      <td>True</td>\n",
       "      <td>0.0</td>\n",
       "      <td>...</td>\n",
       "      <td>https://a70f78905.app-ads-txt.com</td>\n",
       "      <td>ruchisono@gmail.com</td>\n",
       "      <td>Aug 1, 2016</td>\n",
       "      <td>May 05, 2021</td>\n",
       "      <td>Everyone</td>\n",
       "      <td>https://docs.google.com/document/d/1x-9reZuLRX...</td>\n",
       "      <td>True</td>\n",
       "      <td>False</td>\n",
       "      <td>False</td>\n",
       "      <td>2021-06-16 12:59:19</td>\n",
       "    </tr>\n",
       "    <tr>\n",
       "      <th>2312943</th>\n",
       "      <td>Biliyor Musun - Sonsuz Yarış</td>\n",
       "      <td>com.yyazilim.biliyormusun</td>\n",
       "      <td>Trivia</td>\n",
       "      <td>5.0</td>\n",
       "      <td>12.0</td>\n",
       "      <td>100+</td>\n",
       "      <td>100.0</td>\n",
       "      <td>354</td>\n",
       "      <td>True</td>\n",
       "      <td>0.0</td>\n",
       "      <td>...</td>\n",
       "      <td>NaN</td>\n",
       "      <td>yyazilimdevelop@gmail.com</td>\n",
       "      <td>Aug 9, 2019</td>\n",
       "      <td>Aug 19, 2019</td>\n",
       "      <td>Everyone</td>\n",
       "      <td>https://biliyor-musun-sons.flycricket.io/priva...</td>\n",
       "      <td>True</td>\n",
       "      <td>False</td>\n",
       "      <td>False</td>\n",
       "      <td>2021-06-16 12:59:19</td>\n",
       "    </tr>\n",
       "  </tbody>\n",
       "</table>\n",
       "<p>2312944 rows × 24 columns</p>\n",
       "</div>"
      ],
      "text/plain": [
       "                                                  App Name  \\\n",
       "0                                                  Gakondo   \n",
       "1                                      Ampere Battery Info   \n",
       "2                                                   Vibook   \n",
       "3        Smart City Trichy Public Service Vehicles 17UC...   \n",
       "4                                                  GROW.me   \n",
       "...                                                    ...   \n",
       "2312939                                           大俠客—熱血歸來   \n",
       "2312940                                         ORU Online   \n",
       "2312941                                     Data Structure   \n",
       "2312942                                        Devi Suktam   \n",
       "2312943                       Biliyor Musun - Sonsuz Yarış   \n",
       "\n",
       "                                       App Id       Category  Rating  \\\n",
       "0                         com.ishakwe.gakondo      Adventure     0.0   \n",
       "1                  com.webserveis.batteryinfo          Tools     4.4   \n",
       "2                        com.doantiepvien.crm   Productivity     0.0   \n",
       "3                     cst.stJoseph.ug17ucs548  Communication     5.0   \n",
       "4                        com.horodyski.grower          Tools     0.0   \n",
       "...                                       ...            ...     ...   \n",
       "2312939                         com.rxsj.ssjj   Role Playing     4.3   \n",
       "2312940              com.threedream.oruonline      Education     0.0   \n",
       "2312941  datastructure.appoworld.datastucture      Education     0.0   \n",
       "2312942                     ishan.devi.suktam  Music & Audio     3.5   \n",
       "2312943             com.yyazilim.biliyormusun         Trivia     5.0   \n",
       "\n",
       "         Rating Count  Installs  Minimum Installs  Maximum Installs  Free  \\\n",
       "0                 0.0       10+              10.0                15  True   \n",
       "1                64.0    5,000+            5000.0              7662  True   \n",
       "2                 0.0       50+              50.0                58  True   \n",
       "3                 5.0       10+              10.0                19  True   \n",
       "4                 0.0      100+             100.0               478  True   \n",
       "...               ...       ...               ...               ...   ...   \n",
       "2312939       16775.0  100,000+          100000.0            337109  True   \n",
       "2312940           0.0      100+             100.0               430  True   \n",
       "2312941           0.0      100+             100.0               202  True   \n",
       "2312942           8.0    1,000+            1000.0              2635  True   \n",
       "2312943          12.0      100+             100.0               354  True   \n",
       "\n",
       "         Price  ...                  Developer Website  \\\n",
       "0          0.0  ...        https://beniyizibyose.tk/#/   \n",
       "1          0.0  ...    https://webserveis.netlify.app/   \n",
       "2          0.0  ...                                NaN   \n",
       "3          0.0  ...   http://www.climatesmarttech.com/   \n",
       "4          0.0  ...        http://www.horodyski.com.pl   \n",
       "...        ...  ...                                ...   \n",
       "2312939    0.0  ...          http://www.4399sy.com.hk/   \n",
       "2312940    0.0  ...                http://www.oru.edu/   \n",
       "2312941    0.0  ...                                NaN   \n",
       "2312942    0.0  ...  https://a70f78905.app-ads-txt.com   \n",
       "2312943    0.0  ...                                NaN   \n",
       "\n",
       "                      Developer Email      Released  Last Updated  \\\n",
       "0              jean21101999@gmail.com  Feb 26, 2020  Feb 26, 2020   \n",
       "1                webserveis@gmail.com  May 21, 2020  May 06, 2021   \n",
       "2                 vnacrewit@gmail.com   Aug 9, 2019  Aug 19, 2019   \n",
       "3         climatesmarttech2@gmail.com  Sep 10, 2018  Oct 13, 2018   \n",
       "4           rmilekhorodyski@gmail.com  Feb 21, 2020  Nov 12, 2018   \n",
       "...                               ...           ...           ...   \n",
       "2312939           ssjjcomhk@gmail.com           NaN  Jun 01, 2021   \n",
       "2312940     3DreamDeveloper@gmail.com  Jan 17, 2018  Feb 02, 2018   \n",
       "2312941  appoworld.official@gmail.com  Aug 19, 2018  Aug 19, 2018   \n",
       "2312942           ruchisono@gmail.com   Aug 1, 2016  May 05, 2021   \n",
       "2312943     yyazilimdevelop@gmail.com   Aug 9, 2019  Aug 19, 2019   \n",
       "\n",
       "        Content Rating                                     Privacy Policy  \\\n",
       "0             Everyone                 https://beniyizibyose.tk/projects/   \n",
       "1             Everyone  https://dev4phones.wordpress.com/licencia-de-uso/   \n",
       "2             Everyone  https://www.vietnamairlines.com/vn/en/terms-an...   \n",
       "3             Everyone                                                NaN   \n",
       "4             Everyone                        http://www.horodyski.com.pl   \n",
       "...                ...                                                ...   \n",
       "2312939           Teen             http://a.4399sy.com.hk/user/aggreement   \n",
       "2312940       Everyone    http://www.oru.edu/about-oru/privacy-policy.php   \n",
       "2312941       Everyone  https://appoworld.000webhostapp.com/datastruct...   \n",
       "2312942       Everyone  https://docs.google.com/document/d/1x-9reZuLRX...   \n",
       "2312943       Everyone  https://biliyor-musun-sons.flycricket.io/priva...   \n",
       "\n",
       "        Ad Supported In App Purchases Editors Choice         Scraped Time  \n",
       "0              False            False          False  2021-06-15 20:19:35  \n",
       "1               True            False          False  2021-06-15 20:19:35  \n",
       "2              False            False          False  2021-06-15 20:19:35  \n",
       "3               True            False          False  2021-06-15 20:19:35  \n",
       "4              False            False          False  2021-06-15 20:19:35  \n",
       "...              ...              ...            ...                  ...  \n",
       "2312939        False            False          False  2021-06-16 12:59:18  \n",
       "2312940        False            False          False  2021-06-16 12:59:19  \n",
       "2312941        False            False          False  2021-06-16 12:59:19  \n",
       "2312942         True            False          False  2021-06-16 12:59:19  \n",
       "2312943         True            False          False  2021-06-16 12:59:19  \n",
       "\n",
       "[2312944 rows x 24 columns]"
      ]
     },
     "execution_count": 7,
     "metadata": {},
     "output_type": "execute_result"
    }
   ],
   "source": [
    "df.drop_duplicates()"
   ]
  },
  {
   "cell_type": "code",
   "execution_count": 8,
   "id": "80e1d688-4d77-444f-98da-db0b8e012437",
   "metadata": {},
   "outputs": [
    {
     "data": {
      "text/plain": [
       "(2312944, 24)"
      ]
     },
     "execution_count": 8,
     "metadata": {},
     "output_type": "execute_result"
    }
   ],
   "source": [
    "df.shape"
   ]
  },
  {
   "cell_type": "markdown",
   "id": "dc210b67-a612-4c04-819e-ebafa91b7f58",
   "metadata": {},
   "source": [
    "### Most Amount of Downloads by Developer Email"
   ]
  },
  {
   "cell_type": "code",
   "execution_count": 9,
   "id": "10343b44-8c5e-40c7-8187-7e6bcb0ce0de",
   "metadata": {},
   "outputs": [
    {
     "data": {
      "text/plain": [
       "Developer Email\n",
       "support@classplus.co          10345\n",
       "appsupport@subsplash.com       7570\n",
       "help@trainerize.com            4886\n",
       "eng-android@chownow.com        4862\n",
       "support@mindbodyonline.com     3047\n",
       "                              ...  \n",
       "giyimasali@gmail.com              1\n",
       "info@deltabee.com                 1\n",
       "info@mashtal.qa                   1\n",
       "info@hygienewatch.com             1\n",
       "rachmanaditya5@gmail.com          1\n",
       "Name: count, Length: 950456, dtype: int64"
      ]
     },
     "execution_count": 9,
     "metadata": {},
     "output_type": "execute_result"
    }
   ],
   "source": [
    "df[\"Developer Email\"].value_counts().sort_values(ascending=False)"
   ]
  },
  {
   "cell_type": "markdown",
   "id": "3d8169c1-da69-461f-b191-7011119dac92",
   "metadata": {},
   "source": [
    "### Top 10 Installs by App Category"
   ]
  },
  {
   "cell_type": "code",
   "execution_count": 10,
   "id": "5c1cd07b-b3ac-4102-b93e-e5d8aed3c909",
   "metadata": {},
   "outputs": [
    {
     "data": {
      "text/plain": [
       "Category\n",
       "Education            241090\n",
       "Music & Audio        154906\n",
       "Tools                143988\n",
       "Business             143771\n",
       "Entertainment        138276\n",
       "Lifestyle            118331\n",
       "Books & Reference    116728\n",
       "Personalization       89210\n",
       "Health & Fitness      83510\n",
       "Productivity          79698\n",
       "Name: count, dtype: int64"
      ]
     },
     "execution_count": 10,
     "metadata": {},
     "output_type": "execute_result"
    }
   ],
   "source": [
    "df[\"Category\"].value_counts().sort_values(ascending=False).head(10)"
   ]
  },
  {
   "cell_type": "markdown",
   "id": "2d9b171d-c48f-4082-8c95-0482792991b8",
   "metadata": {},
   "source": [
    "### All Unique Values in Content Rating"
   ]
  },
  {
   "cell_type": "code",
   "execution_count": 11,
   "id": "a6718f4b-496c-407e-b936-04e4ff296b74",
   "metadata": {},
   "outputs": [
    {
     "data": {
      "text/plain": [
       "array(['Everyone', 'Teen', 'Mature 17+', 'Everyone 10+',\n",
       "       'Adults only 18+', 'Unrated'], dtype=object)"
      ]
     },
     "execution_count": 11,
     "metadata": {},
     "output_type": "execute_result"
    }
   ],
   "source": [
    "df[\"Content Rating\"].unique()"
   ]
  },
  {
   "cell_type": "markdown",
   "id": "80288a0e-356b-48b8-83cb-7433848bb114",
   "metadata": {},
   "source": [
    "### Sorting the Amount of Apps based on Content Rating"
   ]
  },
  {
   "cell_type": "code",
   "execution_count": 12,
   "id": "7dc0448c-f206-4772-831e-e8b0004f4e4d",
   "metadata": {},
   "outputs": [
    {
     "data": {
      "text/plain": [
       "Content Rating\n",
       "Everyone           2022089\n",
       "Teen                196375\n",
       "Mature 17+           60289\n",
       "Everyone 10+         33901\n",
       "Unrated                154\n",
       "Adults only 18+        136\n",
       "Name: count, dtype: int64"
      ]
     },
     "execution_count": 12,
     "metadata": {},
     "output_type": "execute_result"
    }
   ],
   "source": [
    "df[\"Content Rating\"].value_counts().sort_values(ascending=False).head(10)"
   ]
  },
  {
   "cell_type": "markdown",
   "id": "10792650-cf50-4df7-8268-8fc6f80ae035",
   "metadata": {},
   "source": [
    "### Plotting a histogram on Amount of apps based on Content Rating"
   ]
  },
  {
   "cell_type": "code",
   "execution_count": 13,
   "id": "fc8a0ad4-7441-441a-a8e4-16beb8376188",
   "metadata": {},
   "outputs": [
    {
     "data": {
      "image/png": "[encoded data removed]",
      "text/plain": [
       "<Figure size 1000x700 with 1 Axes>"
      ]
     },
     "metadata": {},
     "output_type": "display_data"
    }
   ],
   "source": [
    "df[\"Content Rating\"].hist(bins=50, color='m', figsize=(10,7))\n",
    "plt.xlabel(\"Content Rating\")\n",
    "plt.ylabel(\"Count\")\n",
    "\n",
    "plt.show()"
   ]
  },
  {
   "cell_type": "markdown",
   "id": "8ffebe6b-2c77-4cbd-8787-926ca83dda99",
   "metadata": {},
   "source": [
    "### Grouping Apps by Content Rating and Category and sorting them based on Maximum number of Installs"
   ]
  },
  {
   "cell_type": "code",
   "execution_count": 14,
   "id": "4020111c-b392-43c3-9eb6-474f257fa414",
   "metadata": {},
   "outputs": [
    {
     "data": {
      "text/plain": [
       "Content Rating   Category         \n",
       "Everyone         Tools                116096888084\n",
       "                 Communication         67800873675\n",
       "                 Productivity          45068963621\n",
       "                 Photography           28678888029\n",
       "Teen             Social                25322267165\n",
       "                                          ...     \n",
       "Adults only 18+  Casual                         35\n",
       "Unrated          Medical                        13\n",
       "Adults only 18+  Maps & Navigation              10\n",
       "                 Beauty                          3\n",
       "                 Events                          2\n",
       "Name: Maximum Installs, Length: 254, dtype: int64"
      ]
     },
     "execution_count": 14,
     "metadata": {},
     "output_type": "execute_result"
    }
   ],
   "source": [
    "df.groupby(['Content Rating', 'Category'])['Maximum Installs'].sum().sort_values(ascending=False)"
   ]
  },
  {
   "cell_type": "markdown",
   "id": "c588dd06-6bee-4f55-ab4b-93481fd1b333",
   "metadata": {},
   "source": [
    "### Grouping Apps by Last Update date and sorting them based on Maximum number of Installs"
   ]
  },
  {
   "cell_type": "code",
   "execution_count": 15,
   "id": "78168051-1604-45ee-bbbb-5a013732ec35",
   "metadata": {},
   "outputs": [
    {
     "data": {
      "text/plain": [
       "Last Updated\n",
       "Jun 14, 2021    69376047585\n",
       "Jun 15, 2021    50150251938\n",
       "Jun 10, 2021    37428247518\n",
       "Jun 11, 2021    32966320404\n",
       "Jun 09, 2021    31357164578\n",
       "                   ...     \n",
       "Jun 18, 2010             25\n",
       "Feb 20, 2011             24\n",
       "Dec 06, 2011             23\n",
       "Nov 17, 2011             13\n",
       "Nov 10, 2009              9\n",
       "Name: Maximum Installs, Length: 3918, dtype: int64"
      ]
     },
     "execution_count": 15,
     "metadata": {},
     "output_type": "execute_result"
    }
   ],
   "source": [
    "df.groupby(['Last Updated'])['Maximum Installs'].sum().sort_values(ascending=False)"
   ]
  },
  {
   "cell_type": "markdown",
   "id": "cc0e1b5f-da34-4b66-9a48-0ddab272c39f",
   "metadata": {},
   "source": [
    "### Grouping Apps by Content Rating and Last Update date and sorting them based on Maximum number of Installs"
   ]
  },
  {
   "cell_type": "code",
   "execution_count": 16,
   "id": "0f2871a0-9d55-4acc-afde-669441dc6951",
   "metadata": {},
   "outputs": [
    {
     "data": {
      "text/plain": [
       "Content Rating   Last Updated\n",
       "Everyone         Jun 14, 2021    45678500606\n",
       "                 Jun 15, 2021    34069633607\n",
       "                 Jun 10, 2021    26236698611\n",
       "                 Jun 09, 2021    24592748882\n",
       "                 Jun 11, 2021    23258261942\n",
       "                                    ...     \n",
       "Everyone 10+     Feb 24, 2014              1\n",
       "Adults only 18+  Jun 11, 2021              0\n",
       "Everyone 10+     May 20, 2017              0\n",
       "Teen             Apr 02, 2011              0\n",
       "Everyone 10+     May 23, 2014              0\n",
       "Name: Maximum Installs, Length: 11907, dtype: int64"
      ]
     },
     "execution_count": 16,
     "metadata": {},
     "output_type": "execute_result"
    }
   ],
   "source": [
    "df.groupby(['Content Rating', 'Last Updated'])['Maximum Installs'].sum().sort_values(ascending=False)"
   ]
  },
  {
   "cell_type": "markdown",
   "id": "34f803f4-0b0c-462d-a74e-aaada52d0ece",
   "metadata": {},
   "source": [
    "Most App Categories Download Yearly"
   ]
  },
  {
   "cell_type": "markdown",
   "id": "511a0389-35b6-4353-a7b0-7ea8443c9c11",
   "metadata": {},
   "source": [
    "### Grouping Apps by Last Update date and Category and sorting them based on Maximum number of Installs"
   ]
  },
  {
   "cell_type": "code",
   "execution_count": 17,
   "id": "f4a48e7f-7f0e-4a3d-b4f8-131460315376",
   "metadata": {},
   "outputs": [
    {
     "data": {
      "text/plain": [
       "Last Updated  Category        \n",
       "Jun 14, 2021  Communication       16789105608\n",
       "Jun 10, 2021  Tools               15372790343\n",
       "Jun 15, 2021  Travel & Local      12164307087\n",
       "Jun 11, 2021  Tools               10869291929\n",
       "Jun 16, 2021  Communication       10594536289\n",
       "                                     ...     \n",
       "Jan 06, 2018  Parenting                     0\n",
       "Oct 01, 2016  Strategy                      0\n",
       "Aug 09, 2016  Shopping                      0\n",
       "Dec 01, 2018  Simulation                    0\n",
       "Feb 04, 2017  Libraries & Demo              0\n",
       "Name: Maximum Installs, Length: 109550, dtype: int64"
      ]
     },
     "execution_count": 17,
     "metadata": {},
     "output_type": "execute_result"
    }
   ],
   "source": [
    "df.groupby(['Last Updated', 'Category'])['Maximum Installs'].sum().sort_values(ascending=False)"
   ]
  },
  {
   "cell_type": "code",
   "execution_count": 18,
   "id": "46ee6397-42b9-4fd6-b32a-f122f9a55653",
   "metadata": {},
   "outputs": [
    {
     "data": {
      "text/plain": [
       "array([0. , 4.4, 5. , 4.5, 2. , 4.7, 4.9, 3.9, 3.7, 4.2, 3.4, 3.8, 4.6,\n",
       "       4.1, 2.5, 2.3, 2.1, 2.7, 4.3, 3.1, 4.8, 3.3, 4. , 2.4, 3.2, 3.6,\n",
       "       2.6, nan, 1.5, 3.5, 2.9, 1.3, 2.8, 3. , 2.2, 1.8, 1.4, 1.2, 1.9,\n",
       "       1.7, 1.6, 1. , 1.1])"
      ]
     },
     "execution_count": 18,
     "metadata": {},
     "output_type": "execute_result"
    }
   ],
   "source": [
    "df['Rating'].unique()"
   ]
  },
  {
   "cell_type": "code",
   "execution_count": 19,
   "id": "3f9169be-88ec-4fb2-a7a0-f4a8a9a83bf6",
   "metadata": {},
   "outputs": [
    {
     "data": {
      "text/plain": [
       "array(['Adventure', 'Tools', 'Productivity', 'Communication', 'Social',\n",
       "       'Libraries & Demo', 'Lifestyle', 'Personalization', 'Racing',\n",
       "       'Maps & Navigation', 'Travel & Local', 'Food & Drink',\n",
       "       'Books & Reference', 'Medical', 'Puzzle', 'Entertainment',\n",
       "       'Arcade', 'Auto & Vehicles', 'Photography', 'Health & Fitness',\n",
       "       'Education', 'Shopping', 'Board', 'Music & Audio', 'Sports',\n",
       "       'Beauty', 'Business', 'Educational', 'Finance', 'News & Magazines',\n",
       "       'Casual', 'Art & Design', 'House & Home', 'Card', 'Events',\n",
       "       'Trivia', 'Weather', 'Strategy', 'Word', 'Video Players & Editors',\n",
       "       'Action', 'Simulation', 'Music', 'Dating', 'Role Playing',\n",
       "       'Casino', 'Comics', 'Parenting'], dtype=object)"
      ]
     },
     "execution_count": 19,
     "metadata": {},
     "output_type": "execute_result"
    }
   ],
   "source": [
    "df['Category'].unique()"
   ]
  },
  {
   "cell_type": "markdown",
   "id": "02f9ef3a-56c5-4cd5-b8d5-c52b7a39f69d",
   "metadata": {},
   "source": [
    "### Selecting some specific values for the Category Column"
   ]
  },
  {
   "cell_type": "code",
   "execution_count": 20,
   "id": "3adaf746-e291-4016-99c1-dc72e6138088",
   "metadata": {},
   "outputs": [],
   "source": [
    "df2 = df[df['Category'].isin(['Tools', 'Beauty', 'Social'])]"
   ]
  },
  {
   "cell_type": "markdown",
   "id": "2fd85e8b-127d-435a-87e7-7f47a9271395",
   "metadata": {},
   "source": [
    "### Plotting a Pie Chart for showing proprtion of Rating count among the three selected categories"
   ]
  },
  {
   "cell_type": "code",
   "execution_count": 21,
   "id": "0a2714ae-f6b4-4bf1-8b14-576d61bf8170",
   "metadata": {},
   "outputs": [
    {
     "data": {
      "image/png": "[encoded data removed]"
     },
     "metadata": {},
     "output_type": "display_data"
    }
   ],
   "source": [
    "fig1 = px.pie(df2, values='Rating Count', names='Category', title = 'Google Play Store Data Vizualization')\n",
    "fig1.show('png')"
   ]
  },
  {
   "cell_type": "code",
   "execution_count": null,
   "id": "8672d04f-66cb-4077-9c32-2a44c824a70f",
   "metadata": {},
   "outputs": [],
   "source": []
  }
 ],
 "metadata": {
  "kernelspec": {
   "display_name": "Python 3 (ipykernel)",
   "language": "python",
   "name": "python3"
  },
  "language_info": {
   "codemirror_mode": {
    "name": "ipython",
    "version": 3
   },
   "file_extension": ".py",
   "mimetype": "text/x-python",
   "name": "python",
   "nbconvert_exporter": "python",
   "pygments_lexer": "ipython3",
   "version": "3.12.9"
  }
 },
 "nbformat": 4,
 "nbformat_minor": 5
}
